{
  "cells": [
    {
      "cell_type": "code",
      "execution_count": null,
      "metadata": {
        "colab": {
          "base_uri": "https://localhost:8080/"
        },
        "id": "SipUhQYiq5d1",
        "outputId": "f061df4d-124b-4811-88b7-4acf9883cf37"
      },
      "outputs": [
        {
          "name": "stdout",
          "output_type": "stream",
          "text": [
            "Gpu avilable True\n",
            "GPU name Tesla T4\n"
          ]
        }
      ],
      "source": [
        "import torch\n",
        "print(\"Gpu avilable\",torch.cuda.is_available())\n",
        "print(\"GPU name\",torch.cuda.get_device_name(0))"
      ]
    },
    {
      "cell_type": "code",
      "execution_count": null,
      "metadata": {
        "colab": {
          "base_uri": "https://localhost:8080/"
        },
        "id": "zAoiRkDq649l",
        "outputId": "e1bae7f8-6130-4478-d867-b0ec1dc631c0"
      },
      "outputs": [
        {
          "name": "stdout",
          "output_type": "stream",
          "text": [
            "Folders in dataset: ['fake', 'original']\n"
          ]
        }
      ],
      "source": [
        "import os\n",
        "\n",
        "dataset_path = \"/content/drive/MyDrive/smartphone_classification\"\n",
        "\n",
        "print(\"Folders in dataset:\", os.listdir(dataset_path))  # Should show ['Fake', 'Original']"
      ]
    },
    {
      "cell_type": "code",
      "execution_count": null,
      "metadata": {
        "colab": {
          "base_uri": "https://localhost:8080/"
        },
        "id": "9ZBwHG-6_iUQ",
        "outputId": "5ef58cd1-13a7-4d13-b48b-1adcbce9faf1"
      },
      "outputs": [
        {
          "name": "stdout",
          "output_type": "stream",
          "text": [
            "Fake images: 45\n",
            "Original images: 45\n"
          ]
        }
      ],
      "source": [
        "import os\n",
        "\n",
        "# Define the paths for the fake and original image folders\n",
        "fake_path = os.path.join(dataset_path, \"fake\")\n",
        "original_path = os.path.join(dataset_path, \"original\")\n",
        "\n",
        "# Count the number of images in each folder\n",
        "num_fake = len(os.listdir(fake_path))\n",
        "num_original = len(os.listdir(original_path))\n",
        "\n",
        "# Print the count of images in each category\n",
        "print(f\"Fake images: {num_fake}\")\n",
        "print(f\"Original images: {num_original}\")\n"
      ]
    },
    {
      "cell_type": "code",
      "execution_count": null,
      "metadata": {
        "colab": {
          "base_uri": "https://localhost:8080/"
        },
        "id": "qhScJE3q68ZK",
        "outputId": "1207bc77-19d3-404c-a830-b7ccd1d5febf"
      },
      "outputs": [
        {
          "name": "stdout",
          "output_type": "stream",
          "text": [
            "Corrupt Fake Images: []\n",
            "Corrupt Original Images: []\n"
          ]
        }
      ],
      "source": [
        "import cv2\n",
        "# checking for corrupt or unreadable images\n",
        "\n",
        "def check_corrupt_images(folder_path):\n",
        "    corrupt_files = []\n",
        "    for file in os.listdir(folder_path):\n",
        "        img_path = os.path.join(folder_path, file)\n",
        "        img = cv2.imread(img_path)\n",
        "        if img is None:\n",
        "            corrupt_files.append(file)\n",
        "    return corrupt_files\n",
        "\n",
        "fake_corrupt = check_corrupt_images(fake_path)\n",
        "original_corrupt = check_corrupt_images(original_path)\n",
        "\n",
        "print(\"Corrupt Fake Images:\", fake_corrupt)\n",
        "print(\"Corrupt Original Images:\", original_corrupt)\n"
      ]
    },
    {
      "cell_type": "code",
      "execution_count": null,
      "metadata": {
        "colab": {
          "base_uri": "https://localhost:8080/"
        },
        "id": "Plvz3c3rBjAN",
        "outputId": "8efab91f-9d9c-4746-e8e2-6009cfb0f7b9"
      },
      "outputs": [
        {
          "name": "stdout",
          "output_type": "stream",
          "text": [
            "Requirement already satisfied: imgaug in /usr/local/lib/python3.11/dist-packages (0.4.0)\n",
            "Requirement already satisfied: six in /usr/local/lib/python3.11/dist-packages (from imgaug) (1.17.0)\n",
            "Requirement already satisfied: numpy>=1.15 in /usr/local/lib/python3.11/dist-packages (from imgaug) (1.26.4)\n",
            "Requirement already satisfied: scipy in /usr/local/lib/python3.11/dist-packages (from imgaug) (1.13.1)\n",
            "Requirement already satisfied: Pillow in /usr/local/lib/python3.11/dist-packages (from imgaug) (11.1.0)\n",
            "Requirement already satisfied: matplotlib in /usr/local/lib/python3.11/dist-packages (from imgaug) (3.10.0)\n",
            "Requirement already satisfied: scikit-image>=0.14.2 in /usr/local/lib/python3.11/dist-packages (from imgaug) (0.25.2)\n",
            "Requirement already satisfied: opencv-python in /usr/local/lib/python3.11/dist-packages (from imgaug) (4.11.0.86)\n",
            "Requirement already satisfied: imageio in /usr/local/lib/python3.11/dist-packages (from imgaug) (2.37.0)\n",
            "Requirement already satisfied: Shapely in /usr/local/lib/python3.11/dist-packages (from imgaug) (2.0.7)\n",
            "Requirement already satisfied: networkx>=3.0 in /usr/local/lib/python3.11/dist-packages (from scikit-image>=0.14.2->imgaug) (3.4.2)\n",
            "Requirement already satisfied: tifffile>=2022.8.12 in /usr/local/lib/python3.11/dist-packages (from scikit-image>=0.14.2->imgaug) (2025.2.18)\n",
            "Requirement already satisfied: packaging>=21 in /usr/local/lib/python3.11/dist-packages (from scikit-image>=0.14.2->imgaug) (24.2)\n",
            "Requirement already satisfied: lazy-loader>=0.4 in /usr/local/lib/python3.11/dist-packages (from scikit-image>=0.14.2->imgaug) (0.4)\n",
            "Requirement already satisfied: contourpy>=1.0.1 in /usr/local/lib/python3.11/dist-packages (from matplotlib->imgaug) (1.3.1)\n",
            "Requirement already satisfied: cycler>=0.10 in /usr/local/lib/python3.11/dist-packages (from matplotlib->imgaug) (0.12.1)\n",
            "Requirement already satisfied: fonttools>=4.22.0 in /usr/local/lib/python3.11/dist-packages (from matplotlib->imgaug) (4.56.0)\n",
            "Requirement already satisfied: kiwisolver>=1.3.1 in /usr/local/lib/python3.11/dist-packages (from matplotlib->imgaug) (1.4.8)\n",
            "Requirement already satisfied: pyparsing>=2.3.1 in /usr/local/lib/python3.11/dist-packages (from matplotlib->imgaug) (3.2.1)\n",
            "Requirement already satisfied: python-dateutil>=2.7 in /usr/local/lib/python3.11/dist-packages (from matplotlib->imgaug) (2.8.2)\n"
          ]
        }
      ],
      "source": [
        "!pip install imgaug"
      ]
    },
    {
      "cell_type": "code",
      "execution_count": null,
      "metadata": {
        "id": "zZpdMfg5DBed"
      },
      "outputs": [],
      "source": [
        "import os\n",
        "import cv2\n",
        "import numpy as np\n",
        "import random\n",
        "import imgaug.augmenters as iaa\n",
        "from google.colab import files\n",
        "from tqdm import tqdm  # Progress bar for augmentation\n"
      ]
    },
    {
      "cell_type": "code",
      "execution_count": null,
      "metadata": {
        "colab": {
          "base_uri": "https://localhost:8080/"
        },
        "id": "vW4WefUHDHGS",
        "outputId": "037d0578-3767-487a-ca59-cdcf3c005299"
      },
      "outputs": [
        {
          "name": "stderr",
          "output_type": "stream",
          "text": [
            "Augmenting /content/drive/MyDrive/smartphone_classification/fake:   2%|▏         | 1/45 [00:00<00:12,  3.57it/s]"
          ]
        },
        {
          "name": "stdout",
          "output_type": "stream",
          "text": [
            "✅ Processed Galaxy_S20plus.png\n"
          ]
        },
        {
          "name": "stderr",
          "output_type": "stream",
          "text": [
            "Augmenting /content/drive/MyDrive/smartphone_classification/fake:   7%|▋         | 3/45 [00:01<00:19,  2.11it/s]"
          ]
        },
        {
          "name": "stdout",
          "output_type": "stream",
          "text": [
            "✅ Processed galaxya50internal.png\n",
            "✅ Processed galaxya54internal.png\n"
          ]
        },
        {
          "name": "stderr",
          "output_type": "stream",
          "text": [
            "\rAugmenting /content/drive/MyDrive/smartphone_classification/fake:   9%|▉         | 4/45 [00:02<00:20,  2.03it/s]"
          ]
        },
        {
          "name": "stdout",
          "output_type": "stream",
          "text": [
            "✅ Processed galaxyf54internal.png\n"
          ]
        },
        {
          "name": "stderr",
          "output_type": "stream",
          "text": [
            "Augmenting /content/drive/MyDrive/smartphone_classification/fake:  13%|█▎        | 6/45 [00:02<00:12,  3.15it/s]"
          ]
        },
        {
          "name": "stdout",
          "output_type": "stream",
          "text": [
            "✅ Processed GalaxyS21Ultra.png\n",
            "✅ Processed note9internal.png\n"
          ]
        },
        {
          "name": "stderr",
          "output_type": "stream",
          "text": [
            "\rAugmenting /content/drive/MyDrive/smartphone_classification/fake:  16%|█▌        | 7/45 [00:02<00:11,  3.28it/s]"
          ]
        },
        {
          "name": "stdout",
          "output_type": "stream",
          "text": [
            "✅ Processed note10+internal.png\n"
          ]
        },
        {
          "name": "stderr",
          "output_type": "stream",
          "text": [
            "\rAugmenting /content/drive/MyDrive/smartphone_classification/fake:  18%|█▊        | 8/45 [00:02<00:10,  3.61it/s]"
          ]
        },
        {
          "name": "stdout",
          "output_type": "stream",
          "text": [
            "✅ Processed original iphone 3gs non xray.png\n"
          ]
        },
        {
          "name": "stderr",
          "output_type": "stream",
          "text": [
            "\rAugmenting /content/drive/MyDrive/smartphone_classification/fake:  20%|██        | 9/45 [00:03<00:09,  3.61it/s]"
          ]
        },
        {
          "name": "stdout",
          "output_type": "stream",
          "text": [
            "✅ Processed original iphone 5 non xray.png\n"
          ]
        },
        {
          "name": "stderr",
          "output_type": "stream",
          "text": [
            "\rAugmenting /content/drive/MyDrive/smartphone_classification/fake:  22%|██▏       | 10/45 [00:03<00:09,  3.62it/s]"
          ]
        },
        {
          "name": "stdout",
          "output_type": "stream",
          "text": [
            "✅ Processed original iphone 5c non xray.png\n"
          ]
        },
        {
          "name": "stderr",
          "output_type": "stream",
          "text": [
            "\rAugmenting /content/drive/MyDrive/smartphone_classification/fake:  24%|██▍       | 11/45 [00:03<00:09,  3.70it/s]"
          ]
        },
        {
          "name": "stdout",
          "output_type": "stream",
          "text": [
            "✅ Processed original iphone 5s non xray.png\n"
          ]
        },
        {
          "name": "stderr",
          "output_type": "stream",
          "text": [
            "\rAugmenting /content/drive/MyDrive/smartphone_classification/fake:  27%|██▋       | 12/45 [00:04<00:09,  3.56it/s]"
          ]
        },
        {
          "name": "stdout",
          "output_type": "stream",
          "text": [
            "✅ Processed original iphone 6 non xray.png\n"
          ]
        },
        {
          "name": "stderr",
          "output_type": "stream",
          "text": [
            "Augmenting /content/drive/MyDrive/smartphone_classification/fake:  31%|███       | 14/45 [00:04<00:07,  3.91it/s]"
          ]
        },
        {
          "name": "stdout",
          "output_type": "stream",
          "text": [
            "✅ Processed original iphone 6 plus non xray.png\n",
            "✅ Processed original iphone 6s non xray.png\n"
          ]
        },
        {
          "name": "stderr",
          "output_type": "stream",
          "text": [
            "\rAugmenting /content/drive/MyDrive/smartphone_classification/fake:  33%|███▎      | 15/45 [00:04<00:06,  4.38it/s]"
          ]
        },
        {
          "name": "stdout",
          "output_type": "stream",
          "text": [
            "✅ Processed original iphone 6s plus non xray.png\n"
          ]
        },
        {
          "name": "stderr",
          "output_type": "stream",
          "text": [
            "\rAugmenting /content/drive/MyDrive/smartphone_classification/fake:  36%|███▌      | 16/45 [00:04<00:06,  4.21it/s]"
          ]
        },
        {
          "name": "stdout",
          "output_type": "stream",
          "text": [
            "✅ Processed original iphone 7 non xray.png\n"
          ]
        },
        {
          "name": "stderr",
          "output_type": "stream",
          "text": [
            "Augmenting /content/drive/MyDrive/smartphone_classification/fake:  40%|████      | 18/45 [00:05<00:05,  4.51it/s]"
          ]
        },
        {
          "name": "stdout",
          "output_type": "stream",
          "text": [
            "✅ Processed original iphone 7 plus non xray.png\n",
            "✅ Processed original iphone 8 non xray.png\n"
          ]
        },
        {
          "name": "stderr",
          "output_type": "stream",
          "text": [
            "\rAugmenting /content/drive/MyDrive/smartphone_classification/fake:  42%|████▏     | 19/45 [00:05<00:05,  4.72it/s]"
          ]
        },
        {
          "name": "stdout",
          "output_type": "stream",
          "text": [
            "✅ Processed original iphone 8 plus non xray .png\n"
          ]
        },
        {
          "name": "stderr",
          "output_type": "stream",
          "text": [
            "\rAugmenting /content/drive/MyDrive/smartphone_classification/fake:  44%|████▍     | 20/45 [00:05<00:05,  4.56it/s]"
          ]
        },
        {
          "name": "stdout",
          "output_type": "stream",
          "text": [
            "✅ Processed original iphone 10 non xray.png\n"
          ]
        },
        {
          "name": "stderr",
          "output_type": "stream",
          "text": [
            "\rAugmenting /content/drive/MyDrive/smartphone_classification/fake:  47%|████▋     | 21/45 [00:07<00:14,  1.65it/s]"
          ]
        },
        {
          "name": "stdout",
          "output_type": "stream",
          "text": [
            "✅ Processed original iphone 14 pro max non xray.png\n"
          ]
        },
        {
          "name": "stderr",
          "output_type": "stream",
          "text": [
            "\rAugmenting /content/drive/MyDrive/smartphone_classification/fake:  49%|████▉     | 22/45 [00:07<00:11,  2.06it/s]"
          ]
        },
        {
          "name": "stdout",
          "output_type": "stream",
          "text": [
            "✅ Processed original iphone xr non xray.png\n"
          ]
        },
        {
          "name": "stderr",
          "output_type": "stream",
          "text": [
            "\rAugmenting /content/drive/MyDrive/smartphone_classification/fake:  51%|█████     | 23/45 [00:07<00:08,  2.50it/s]"
          ]
        },
        {
          "name": "stdout",
          "output_type": "stream",
          "text": [
            "✅ Processed original iphone xs max non xray.png\n",
            "✅ Processed original iphone xs non xray.png\n"
          ]
        },
        {
          "name": "stderr",
          "output_type": "stream",
          "text": [
            "Augmenting /content/drive/MyDrive/smartphone_classification/fake:  56%|█████▌    | 25/45 [00:08<00:06,  3.26it/s]"
          ]
        },
        {
          "name": "stdout",
          "output_type": "stream",
          "text": [
            "✅ Processed s20internal.png\n"
          ]
        },
        {
          "name": "stderr",
          "output_type": "stream",
          "text": [
            "\rAugmenting /content/drive/MyDrive/smartphone_classification/fake:  58%|█████▊    | 26/45 [00:08<00:05,  3.55it/s]"
          ]
        },
        {
          "name": "stdout",
          "output_type": "stream",
          "text": [
            "✅ Processed s20ultra.png\n"
          ]
        },
        {
          "name": "stderr",
          "output_type": "stream",
          "text": [
            "\rAugmenting /content/drive/MyDrive/smartphone_classification/fake:  60%|██████    | 27/45 [00:08<00:05,  3.01it/s]"
          ]
        },
        {
          "name": "stdout",
          "output_type": "stream",
          "text": [
            "✅ Processed s24ultraxrayfromreddit.jpg\n"
          ]
        },
        {
          "name": "stderr",
          "output_type": "stream",
          "text": [
            "\rAugmenting /content/drive/MyDrive/smartphone_classification/fake:  62%|██████▏   | 28/45 [00:10<00:11,  1.49it/s]"
          ]
        },
        {
          "name": "stdout",
          "output_type": "stream",
          "text": [
            "✅ Processed s23-Ultra-x-ray.jpg\n"
          ]
        },
        {
          "name": "stderr",
          "output_type": "stream",
          "text": [
            "\rAugmenting /content/drive/MyDrive/smartphone_classification/fake:  64%|██████▍   | 29/45 [00:10<00:08,  1.85it/s]"
          ]
        },
        {
          "name": "stdout",
          "output_type": "stream",
          "text": [
            "✅ Processed s20xray.jpg\n"
          ]
        },
        {
          "name": "stderr",
          "output_type": "stream",
          "text": [
            "Augmenting /content/drive/MyDrive/smartphone_classification/fake:  69%|██████▉   | 31/45 [00:11<00:05,  2.57it/s]"
          ]
        },
        {
          "name": "stdout",
          "output_type": "stream",
          "text": [
            "✅ Processed s20ultraxray.jpg\n",
            "✅ Processed s20plusxray.jpg\n"
          ]
        },
        {
          "name": "stderr",
          "output_type": "stream",
          "text": [
            "Augmenting /content/drive/MyDrive/smartphone_classification/fake:  73%|███████▎  | 33/45 [00:11<00:03,  3.45it/s]"
          ]
        },
        {
          "name": "stdout",
          "output_type": "stream",
          "text": [
            "✅ Processed original samsumng galaxy s21 xray.jpg\n",
            "✅ Processed original iphone xs xray.jpg\n"
          ]
        },
        {
          "name": "stderr",
          "output_type": "stream",
          "text": [
            "Augmenting /content/drive/MyDrive/smartphone_classification/fake:  78%|███████▊  | 35/45 [00:11<00:02,  4.24it/s]"
          ]
        },
        {
          "name": "stdout",
          "output_type": "stream",
          "text": [
            "✅ Processed original iphone xs max xray.jpg\n",
            "✅ Processed original iphone xr xray.jpg\n"
          ]
        },
        {
          "name": "stderr",
          "output_type": "stream",
          "text": [
            "\rAugmenting /content/drive/MyDrive/smartphone_classification/fake:  80%|████████  | 36/45 [00:12<00:02,  3.95it/s]"
          ]
        },
        {
          "name": "stdout",
          "output_type": "stream",
          "text": [
            "✅ Processed original iphone 16 xray.jpg\n"
          ]
        },
        {
          "name": "stderr",
          "output_type": "stream",
          "text": [
            "\rAugmenting /content/drive/MyDrive/smartphone_classification/fake:  82%|████████▏ | 37/45 [00:12<00:02,  3.84it/s]"
          ]
        },
        {
          "name": "stdout",
          "output_type": "stream",
          "text": [
            "✅ Processed original iphone 15 xray.jpg\n"
          ]
        },
        {
          "name": "stderr",
          "output_type": "stream",
          "text": [
            "\rAugmenting /content/drive/MyDrive/smartphone_classification/fake:  84%|████████▍ | 38/45 [00:13<00:04,  1.69it/s]"
          ]
        },
        {
          "name": "stdout",
          "output_type": "stream",
          "text": [
            "✅ Processed original iphone 14 pro max  xray.jpg\n"
          ]
        },
        {
          "name": "stderr",
          "output_type": "stream",
          "text": [
            "Augmenting /content/drive/MyDrive/smartphone_classification/fake:  89%|████████▉ | 40/45 [00:14<00:01,  2.55it/s]"
          ]
        },
        {
          "name": "stdout",
          "output_type": "stream",
          "text": [
            "✅ Processed original iphone 10 xray.jpg\n",
            "✅ Processed original iphone 8 xray.jpg\n"
          ]
        },
        {
          "name": "stderr",
          "output_type": "stream",
          "text": [
            "\rAugmenting /content/drive/MyDrive/smartphone_classification/fake:  91%|█████████ | 41/45 [00:14<00:01,  3.02it/s]"
          ]
        },
        {
          "name": "stdout",
          "output_type": "stream",
          "text": [
            "✅ Processed original iphone 8 plus xray.jpg\n"
          ]
        },
        {
          "name": "stderr",
          "output_type": "stream",
          "text": [
            "\rAugmenting /content/drive/MyDrive/smartphone_classification/fake:  93%|█████████▎| 42/45 [00:14<00:00,  3.38it/s]"
          ]
        },
        {
          "name": "stdout",
          "output_type": "stream",
          "text": [
            "✅ Processed original iphone 4s xray.jpg\n"
          ]
        },
        {
          "name": "stderr",
          "output_type": "stream",
          "text": [
            "Augmenting /content/drive/MyDrive/smartphone_classification/fake:  98%|█████████▊| 44/45 [00:14<00:00,  4.44it/s]"
          ]
        },
        {
          "name": "stdout",
          "output_type": "stream",
          "text": [
            "✅ Processed note10+xray.jpg\n",
            "✅ Processed note9xray.jpg\n"
          ]
        },
        {
          "name": "stderr",
          "output_type": "stream",
          "text": [
            "Augmenting /content/drive/MyDrive/smartphone_classification/fake: 100%|██████████| 45/45 [00:15<00:00,  2.99it/s]\n"
          ]
        },
        {
          "name": "stdout",
          "output_type": "stream",
          "text": [
            "✅ Processed GalaxyS21Ultraxray.jpg\n",
            "\n",
            "🎉 Augmentation complete! Augmented images saved in: /content/drive/MyDrive/smartphone_classification/Augmented_Fake\n"
          ]
        },
        {
          "name": "stderr",
          "output_type": "stream",
          "text": [
            "Augmenting /content/drive/MyDrive/smartphone_classification/original:   2%|▏         | 1/45 [00:02<01:55,  2.62s/it]"
          ]
        },
        {
          "name": "stdout",
          "output_type": "stream",
          "text": [
            "✅ Processed original iphone 14 pro max non xray.jpg\n"
          ]
        },
        {
          "name": "stderr",
          "output_type": "stream",
          "text": [
            "Augmenting /content/drive/MyDrive/smartphone_classification/original:   7%|▋         | 3/45 [00:04<00:49,  1.17s/it]"
          ]
        },
        {
          "name": "stdout",
          "output_type": "stream",
          "text": [
            "✅ Processed original iphone 14 pro max  xray.jpg\n",
            "✅ Processed galaxya54internal.jpg\n"
          ]
        },
        {
          "name": "stderr",
          "output_type": "stream",
          "text": [
            "\rAugmenting /content/drive/MyDrive/smartphone_classification/original:   9%|▉         | 4/45 [00:04<00:32,  1.26it/s]"
          ]
        },
        {
          "name": "stdout",
          "output_type": "stream",
          "text": [
            "✅ Processed GalaxyS21Ultra.jpg\n"
          ]
        },
        {
          "name": "stderr",
          "output_type": "stream",
          "text": [
            "\rAugmenting /content/drive/MyDrive/smartphone_classification/original:  11%|█         | 5/45 [00:04<00:23,  1.70it/s]"
          ]
        },
        {
          "name": "stdout",
          "output_type": "stream",
          "text": [
            "✅ Processed Galaxy_S20plus.jpg\n",
            "✅ Processed GalaxyS21Ultraxray.jpg\n"
          ]
        },
        {
          "name": "stderr",
          "output_type": "stream",
          "text": [
            "Augmenting /content/drive/MyDrive/smartphone_classification/original:  16%|█▌        | 7/45 [00:05<00:23,  1.62it/s]"
          ]
        },
        {
          "name": "stdout",
          "output_type": "stream",
          "text": [
            "✅ Processed galaxya50internal.jpg\n"
          ]
        },
        {
          "name": "stderr",
          "output_type": "stream",
          "text": [
            "\rAugmenting /content/drive/MyDrive/smartphone_classification/original:  18%|█▊        | 8/45 [00:06<00:23,  1.59it/s]"
          ]
        },
        {
          "name": "stdout",
          "output_type": "stream",
          "text": [
            "✅ Processed galaxyf54internal.jpg\n"
          ]
        },
        {
          "name": "stderr",
          "output_type": "stream",
          "text": [
            "\rAugmenting /content/drive/MyDrive/smartphone_classification/original:  20%|██        | 9/45 [00:06<00:18,  1.91it/s]"
          ]
        },
        {
          "name": "stdout",
          "output_type": "stream",
          "text": [
            "✅ Processed note10+xray.jpg\n"
          ]
        },
        {
          "name": "stderr",
          "output_type": "stream",
          "text": [
            "Augmenting /content/drive/MyDrive/smartphone_classification/original:  24%|██▍       | 11/45 [00:07<00:11,  2.96it/s]"
          ]
        },
        {
          "name": "stdout",
          "output_type": "stream",
          "text": [
            "✅ Processed s20ultraxray.jpg\n",
            "✅ Processed note9xray.jpg\n"
          ]
        },
        {
          "name": "stderr",
          "output_type": "stream",
          "text": [
            "\rAugmenting /content/drive/MyDrive/smartphone_classification/original:  27%|██▋       | 12/45 [00:07<00:09,  3.31it/s]"
          ]
        },
        {
          "name": "stdout",
          "output_type": "stream",
          "text": [
            "✅ Processed note10+internal.jpg\n"
          ]
        },
        {
          "name": "stderr",
          "output_type": "stream",
          "text": [
            "\rAugmenting /content/drive/MyDrive/smartphone_classification/original:  29%|██▉       | 13/45 [00:07<00:08,  3.67it/s]"
          ]
        },
        {
          "name": "stdout",
          "output_type": "stream",
          "text": [
            "✅ Processed s20plusxray.jpg\n"
          ]
        },
        {
          "name": "stderr",
          "output_type": "stream",
          "text": [
            "Augmenting /content/drive/MyDrive/smartphone_classification/original:  33%|███▎      | 15/45 [00:08<00:06,  4.41it/s]"
          ]
        },
        {
          "name": "stdout",
          "output_type": "stream",
          "text": [
            "✅ Processed s20ultra.jpg\n",
            "✅ Processed note9internal.jpg\n"
          ]
        },
        {
          "name": "stderr",
          "output_type": "stream",
          "text": [
            "\rAugmenting /content/drive/MyDrive/smartphone_classification/original:  36%|███▌      | 16/45 [00:08<00:09,  3.06it/s]"
          ]
        },
        {
          "name": "stdout",
          "output_type": "stream",
          "text": [
            "✅ Processed s24ultraxrayfromreddit.jpg\n"
          ]
        },
        {
          "name": "stderr",
          "output_type": "stream",
          "text": [
            "\rAugmenting /content/drive/MyDrive/smartphone_classification/original:  38%|███▊      | 17/45 [00:08<00:08,  3.34it/s]"
          ]
        },
        {
          "name": "stdout",
          "output_type": "stream",
          "text": [
            "✅ Processed s20xray.jpg\n"
          ]
        },
        {
          "name": "stderr",
          "output_type": "stream",
          "text": [
            "\rAugmenting /content/drive/MyDrive/smartphone_classification/original:  40%|████      | 18/45 [00:10<00:16,  1.60it/s]"
          ]
        },
        {
          "name": "stdout",
          "output_type": "stream",
          "text": [
            "✅ Processed s23-Ultra-x-ray.jpg\n"
          ]
        },
        {
          "name": "stderr",
          "output_type": "stream",
          "text": [
            "Augmenting /content/drive/MyDrive/smartphone_classification/original:  44%|████▍     | 20/45 [00:10<00:09,  2.51it/s]"
          ]
        },
        {
          "name": "stdout",
          "output_type": "stream",
          "text": [
            "✅ Processed s20internal.jpg\n",
            "✅ Processed original iphone 6s plus non xray.jpg\n"
          ]
        },
        {
          "name": "stderr",
          "output_type": "stream",
          "text": [
            "Augmenting /content/drive/MyDrive/smartphone_classification/original:  49%|████▉     | 22/45 [00:11<00:06,  3.45it/s]"
          ]
        },
        {
          "name": "stdout",
          "output_type": "stream",
          "text": [
            "✅ Processed original iphone xs non xray.jpg\n",
            "✅ Processed original iphone xr non xray.jpg\n"
          ]
        },
        {
          "name": "stderr",
          "output_type": "stream",
          "text": [
            "Augmenting /content/drive/MyDrive/smartphone_classification/original:  53%|█████▎    | 24/45 [00:11<00:04,  4.27it/s]"
          ]
        },
        {
          "name": "stdout",
          "output_type": "stream",
          "text": [
            "✅ Processed original iphone 7 non xray.jpg\n",
            "✅ Processed original iphone 8 plus non xray .jpg\n"
          ]
        },
        {
          "name": "stderr",
          "output_type": "stream",
          "text": [
            "Augmenting /content/drive/MyDrive/smartphone_classification/original:  58%|█████▊    | 26/45 [00:11<00:04,  4.60it/s]"
          ]
        },
        {
          "name": "stdout",
          "output_type": "stream",
          "text": [
            "✅ Processed original iphone 5c non xray.jpg\n",
            "✅ Processed original iphone 8 xray.jpg\n"
          ]
        },
        {
          "name": "stderr",
          "output_type": "stream",
          "text": [
            "\rAugmenting /content/drive/MyDrive/smartphone_classification/original:  60%|██████    | 27/45 [00:12<00:03,  4.60it/s]"
          ]
        },
        {
          "name": "stdout",
          "output_type": "stream",
          "text": [
            "✅ Processed original iphone 6 plus non xray.jpg\n"
          ]
        },
        {
          "name": "stderr",
          "output_type": "stream",
          "text": [
            "\rAugmenting /content/drive/MyDrive/smartphone_classification/original:  62%|██████▏   | 28/45 [00:12<00:03,  4.63it/s]"
          ]
        },
        {
          "name": "stdout",
          "output_type": "stream",
          "text": [
            "✅ Processed original iphone 10 xray.jpg\n"
          ]
        },
        {
          "name": "stderr",
          "output_type": "stream",
          "text": [
            "\rAugmenting /content/drive/MyDrive/smartphone_classification/original:  64%|██████▍   | 29/45 [00:12<00:03,  4.36it/s]"
          ]
        },
        {
          "name": "stdout",
          "output_type": "stream",
          "text": [
            "✅ Processed original iphone 4s xray.jpg\n"
          ]
        },
        {
          "name": "stderr",
          "output_type": "stream",
          "text": [
            "Augmenting /content/drive/MyDrive/smartphone_classification/original:  69%|██████▉   | 31/45 [00:12<00:03,  4.41it/s]"
          ]
        },
        {
          "name": "stdout",
          "output_type": "stream",
          "text": [
            "✅ Processed original iphone 16 xray.jpg\n",
            "✅ Processed original iphone xr xray.jpg\n"
          ]
        },
        {
          "name": "stderr",
          "output_type": "stream",
          "text": [
            "Augmenting /content/drive/MyDrive/smartphone_classification/original:  73%|███████▎  | 33/45 [00:13<00:02,  4.78it/s]"
          ]
        },
        {
          "name": "stdout",
          "output_type": "stream",
          "text": [
            "✅ Processed original iphone 7 plus non xray.jpg\n",
            "✅ Processed original iphone xs xray.jpg\n"
          ]
        },
        {
          "name": "stderr",
          "output_type": "stream",
          "text": [
            "\rAugmenting /content/drive/MyDrive/smartphone_classification/original:  76%|███████▌  | 34/45 [00:13<00:03,  3.50it/s]"
          ]
        },
        {
          "name": "stdout",
          "output_type": "stream",
          "text": [
            "✅ Processed original iphone xs max xray.jpg\n"
          ]
        },
        {
          "name": "stderr",
          "output_type": "stream",
          "text": [
            "\rAugmenting /content/drive/MyDrive/smartphone_classification/original:  78%|███████▊  | 35/45 [00:14<00:02,  3.80it/s]"
          ]
        },
        {
          "name": "stdout",
          "output_type": "stream",
          "text": [
            "✅ Processed original iphone 3gs non xray.jpg\n"
          ]
        },
        {
          "name": "stderr",
          "output_type": "stream",
          "text": [
            "\rAugmenting /content/drive/MyDrive/smartphone_classification/original:  80%|████████  | 36/45 [00:14<00:02,  3.66it/s]"
          ]
        },
        {
          "name": "stdout",
          "output_type": "stream",
          "text": [
            "✅ Processed original iphone 10 non xray.jpg\n"
          ]
        },
        {
          "name": "stderr",
          "output_type": "stream",
          "text": [
            "\rAugmenting /content/drive/MyDrive/smartphone_classification/original:  82%|████████▏ | 37/45 [00:14<00:02,  3.72it/s]"
          ]
        },
        {
          "name": "stdout",
          "output_type": "stream",
          "text": [
            "✅ Processed original iphone 8 non xray.jpg\n"
          ]
        },
        {
          "name": "stderr",
          "output_type": "stream",
          "text": [
            "Augmenting /content/drive/MyDrive/smartphone_classification/original:  87%|████████▋ | 39/45 [00:15<00:01,  3.56it/s]"
          ]
        },
        {
          "name": "stdout",
          "output_type": "stream",
          "text": [
            "✅ Processed original iphone 15 xray.jpg\n",
            "✅ Processed original iphone 6s non xray.jpg\n"
          ]
        },
        {
          "name": "stderr",
          "output_type": "stream",
          "text": [
            "\rAugmenting /content/drive/MyDrive/smartphone_classification/original:  89%|████████▉ | 40/45 [00:15<00:01,  3.85it/s]"
          ]
        },
        {
          "name": "stdout",
          "output_type": "stream",
          "text": [
            "✅ Processed original iphone xs max non xray.jpg\n"
          ]
        },
        {
          "name": "stderr",
          "output_type": "stream",
          "text": [
            "\rAugmenting /content/drive/MyDrive/smartphone_classification/original:  91%|█████████ | 41/45 [00:15<00:00,  4.04it/s]"
          ]
        },
        {
          "name": "stdout",
          "output_type": "stream",
          "text": [
            "✅ Processed original samsumng galaxy s21 xray.jpg\n"
          ]
        },
        {
          "name": "stderr",
          "output_type": "stream",
          "text": [
            "\rAugmenting /content/drive/MyDrive/smartphone_classification/original:  93%|█████████▎| 42/45 [00:15<00:00,  4.20it/s]"
          ]
        },
        {
          "name": "stdout",
          "output_type": "stream",
          "text": [
            "✅ Processed original iphone 8 plus xray.jpg\n"
          ]
        },
        {
          "name": "stderr",
          "output_type": "stream",
          "text": [
            "\rAugmenting /content/drive/MyDrive/smartphone_classification/original:  96%|█████████▌| 43/45 [00:16<00:00,  4.19it/s]"
          ]
        },
        {
          "name": "stdout",
          "output_type": "stream",
          "text": [
            "✅ Processed original iphone 6 non xray.jpg\n"
          ]
        },
        {
          "name": "stderr",
          "output_type": "stream",
          "text": [
            "\rAugmenting /content/drive/MyDrive/smartphone_classification/original:  98%|█████████▊| 44/45 [00:16<00:00,  4.08it/s]"
          ]
        },
        {
          "name": "stdout",
          "output_type": "stream",
          "text": [
            "✅ Processed original iphone 5 non xray.jpg\n"
          ]
        },
        {
          "name": "stderr",
          "output_type": "stream",
          "text": [
            "Augmenting /content/drive/MyDrive/smartphone_classification/original: 100%|██████████| 45/45 [00:16<00:00,  2.70it/s]"
          ]
        },
        {
          "name": "stdout",
          "output_type": "stream",
          "text": [
            "✅ Processed original iphone 5s non xray.jpg\n",
            "\n",
            "🎉 Augmentation complete! Augmented images saved in: /content/drive/MyDrive/smartphone_classification/Augmented_Original\n"
          ]
        },
        {
          "name": "stderr",
          "output_type": "stream",
          "text": [
            "\n"
          ]
        }
      ],
      "source": [
        "# dataset's actual paths\n",
        "fake_path = \"/content/drive/MyDrive/smartphone_classification/fake\"\n",
        "original_path = \"/content/drive/MyDrive/smartphone_classification/original\"\n",
        "\n",
        "# Paths to save augmented images\n",
        "augmented_fake_path = \"/content/drive/MyDrive/smartphone_classification/Augmented_Fake\"\n",
        "augmented_original_path = \"/content/drive/MyDrive/smartphone_classification/Augmented_Original\"\n",
        "\n",
        "# Run augmentation\n",
        "augment_images(fake_path, augmented_fake_path, num_augmented=10)\n",
        "augment_images(original_path, augmented_original_path, num_augmented=10)\n",
        "\n",
        "\n",
        "\n",
        "def augment_images(input_folder, output_folder, num_augmented=10):\n",
        "    \"\"\"\n",
        "    Applies augmentation to images in the input_folder and saves them to output_folder.\n",
        "\n",
        "    - num_augmented: How many augmented versions per image.\n",
        "    \"\"\"\n",
        "    if not os.path.exists(output_folder):\n",
        "        os.makedirs(output_folder)\n",
        "\n",
        "    # Define augmentations\n",
        "    seq = iaa.Sequential([\n",
        "        iaa.Affine(rotate=(-15, 15)),  # Rotate randomly between -15° to 15°\n",
        "        iaa.Fliplr(0.5),  # Flip 50% of images horizontally\n",
        "        iaa.Multiply((0.8, 1.2)),  # Adjust brightness randomly (80% to 120%)\n",
        "        iaa.AdditiveGaussianNoise(scale=(0, 0.05*255))  # Add slight Gaussian noise\n",
        "    ])\n",
        "\n",
        "    # Process each image\n",
        "    for img_name in tqdm(os.listdir(input_folder), desc=f\"Augmenting {input_folder}\"):\n",
        "        img_path = os.path.join(input_folder, img_name)\n",
        "        img = cv2.imread(img_path, cv2.IMREAD_GRAYSCALE)\n",
        "\n",
        "        if img is None:\n",
        "            print(f\"⚠ Warning: Unable to read {img_name}. Skipping...\")\n",
        "            continue  # Skip this image\n",
        "\n",
        "        for i in range(num_augmented):\n",
        "            # Apply augmentation\n",
        "            augmented_img = seq.augment_image(img)\n",
        "\n",
        "            # Save augmented image\n",
        "            new_filename = f\"{os.path.splitext(img_name)[0]}_aug_{i}.jpg\"\n",
        "            new_filepath = os.path.join(output_folder, new_filename)\n",
        "            cv2.imwrite(new_filepath, augmented_img)\n",
        "\n",
        "        print(f\"✅ Processed {img_name}\")\n",
        "\n",
        "    print(f\"\\n🎉 Augmentation complete! Augmented images saved in: {output_folder}\")\n",
        "\n"
      ]
    },
    {
      "cell_type": "code",
      "execution_count": null,
      "metadata": {
        "colab": {
          "base_uri": "https://localhost:8080/"
        },
        "id": "g0lU2Ot3Dmhh",
        "outputId": "987ecdee-ae9c-464e-df7d-58fd4316d858"
      },
      "outputs": [
        {
          "name": "stdout",
          "output_type": "stream",
          "text": [
            "Total Images: 412\n",
            "Training Images: 329, Testing Images: 83\n",
            "Classes: ['fake', 'original']\n"
          ]
        }
      ],
      "source": [
        "import torch\n",
        "import torchvision.transforms as transforms\n",
        "from torchvision.datasets import ImageFolder\n",
        "from torch.utils.data import DataLoader, random_split\n",
        "from PIL import Image\n",
        "import os\n",
        "\n",
        "# Define a single transformation (Convert all images to RGB)\n",
        "transform = transforms.Compose([\n",
        "    transforms.Resize((128, 128)),\n",
        "    transforms.ToTensor(),\n",
        "    transforms.Normalize(mean=[0.5, 0.5, 0.5], std=[0.5, 0.5, 0.5])  # Normalize for 3 channels\n",
        "])\n",
        "\n",
        "# Custom Dataset to ensure all images are converted to RGB\n",
        "class UnifiedDataset(ImageFolder):\n",
        "    def __getitem__(self, index):\n",
        "        path, label = self.samples[index]\n",
        "        image = Image.open(path).convert(\"RGB\")  # Convert all images to RGB (3 channels)\n",
        "        image = transform(image)\n",
        "        return image, label\n",
        "\n",
        "# Define dataset path\n",
        "dataset_path = \"/content/drive/MyDrive/smartphone_classification\"\n",
        "\n",
        "# Load dataset with automatic RGB conversion\n",
        "dataset = UnifiedDataset(root=dataset_path)\n",
        "\n",
        "# Split dataset into 80% training, 20% testing\n",
        "train_size = int(0.8 * len(dataset))\n",
        "test_size = len(dataset) - train_size\n",
        "train_dataset, test_dataset = random_split(dataset, [train_size, test_size])\n",
        "\n",
        "# Create DataLoaders for training and testing\n",
        "train_loader = DataLoader(train_dataset, batch_size=16, shuffle=True)\n",
        "test_loader = DataLoader(test_dataset, batch_size=16, shuffle=False)\n",
        "\n",
        "# Check dataset info\n",
        "print(f\"Total Images: {len(dataset)}\")\n",
        "print(f\"Training Images: {len(train_dataset)}, Testing Images: {len(test_dataset)}\")\n",
        "print(f\"Classes: {dataset.classes}\")  # Should print ['fake', 'original']\n"
      ]
    },
    {
      "cell_type": "code",
      "execution_count": null,
      "metadata": {
        "colab": {
          "base_uri": "https://localhost:8080/"
        },
        "id": "SERcuS3SHK0X",
        "outputId": "fd32c001-ad54-484a-aa49-4612f2794797"
      },
      "outputs": [
        {
          "name": "stdout",
          "output_type": "stream",
          "text": [
            "SmartphoneCNN(\n",
            "  (conv1): Conv2d(3, 32, kernel_size=(3, 3), stride=(1, 1), padding=(1, 1))\n",
            "  (conv2): Conv2d(32, 64, kernel_size=(3, 3), stride=(1, 1), padding=(1, 1))\n",
            "  (pool): MaxPool2d(kernel_size=2, stride=2, padding=0, dilation=1, ceil_mode=False)\n",
            "  (fc1): Linear(in_features=65536, out_features=128, bias=True)\n",
            "  (fc2): Linear(in_features=128, out_features=2, bias=True)\n",
            ")\n"
          ]
        }
      ],
      "source": [
        "import torch.nn as nn\n",
        "import torch.nn.functional as F\n",
        "\n",
        "# Define Updated CNN Architecture\n",
        "class SmartphoneCNN(nn.Module):\n",
        "    def __init__(self):\n",
        "        super(SmartphoneCNN, self).__init__()\n",
        "        self.conv1 = nn.Conv2d(3, 32, kernel_size=3, stride=1, padding=1)  # Fix: 3 channels for RGB\n",
        "        self.conv2 = nn.Conv2d(32, 64, kernel_size=3, stride=1, padding=1)\n",
        "        self.pool = nn.MaxPool2d(kernel_size=2, stride=2, padding=0)\n",
        "        self.fc1 = nn.Linear(64 * 32 * 32, 128)\n",
        "        self.fc2 = nn.Linear(128, 2)\n",
        "\n",
        "    def forward(self, x):\n",
        "        x = self.pool(F.relu(self.conv1(x)))  # Conv1 + ReLU + Pool\n",
        "        x = self.pool(F.relu(self.conv2(x)))  # Conv2 + ReLU + Pool\n",
        "        x = x.view(-1, 64 * 32 * 32)  # Flatten\n",
        "        x = F.relu(self.fc1(x))\n",
        "        x = self.fc2(x)  # Output (No Softmax because CrossEntropyLoss applies it)\n",
        "        return x\n",
        "\n",
        "# Instantiate model\n",
        "model = SmartphoneCNN()\n",
        "print(model)\n"
      ]
    },
    {
      "cell_type": "code",
      "execution_count": null,
      "metadata": {
        "colab": {
          "base_uri": "https://localhost:8080/"
        },
        "id": "atpAe7EwNLGt",
        "outputId": "af9dfc25-564d-4a75-e7cb-b9d9fdc1ffe6"
      },
      "outputs": [
        {
          "name": "stdout",
          "output_type": "stream",
          "text": [
            "Epoch 1/10, Loss: 0.4903\n",
            "Epoch 2/10, Loss: 0.2033\n",
            "Epoch 3/10, Loss: 0.1731\n",
            "Epoch 4/10, Loss: 0.1269\n",
            "Epoch 5/10, Loss: 0.0991\n",
            "Epoch 6/10, Loss: 0.0785\n",
            "Epoch 7/10, Loss: 0.0856\n",
            "Epoch 8/10, Loss: 0.0652\n",
            "Epoch 9/10, Loss: 0.0640\n",
            "Epoch 10/10, Loss: 0.0409\n",
            "✅ Training complete!\n"
          ]
        }
      ],
      "source": [
        "import torch.optim as optim\n",
        "import torch\n",
        "\n",
        "# Move model to GPU if available\n",
        "device = torch.device(\"cuda\" if torch.cuda.is_available() else \"cpu\")\n",
        "model.to(device)\n",
        "\n",
        "# Define loss function and optimizer\n",
        "criterion = nn.CrossEntropyLoss()\n",
        "optimizer = optim.Adam(model.parameters(), lr=0.001)\n",
        "\n",
        "# Training loop\n",
        "num_epochs = 10  # You can increase this if needed\n",
        "\n",
        "for epoch in range(num_epochs):\n",
        "    model.train()\n",
        "    running_loss = 0.0\n",
        "\n",
        "    for images, labels in train_loader:\n",
        "        images, labels = images.to(device), labels.to(device)  # Move data to GPU\n",
        "\n",
        "        optimizer.zero_grad()  # Reset gradients\n",
        "        outputs = model(images)  # Forward pass\n",
        "        loss = criterion(outputs, labels)  # Compute loss\n",
        "        loss.backward()  # Backpropagation\n",
        "        optimizer.step()  # Update weights\n",
        "\n",
        "        running_loss += loss.item()\n",
        "\n",
        "    print(f\"Epoch {epoch+1}/{num_epochs}, Loss: {running_loss/len(train_loader):.4f}\")\n",
        "\n",
        "print(\"✅ Training complete!\")\n"
      ]
    },
    {
      "cell_type": "code",
      "execution_count": null,
      "metadata": {
        "colab": {
          "base_uri": "https://localhost:8080/"
        },
        "id": "DCihlXteNXkL",
        "outputId": "50047514-1ac8-477f-f330-688f8b6c73de"
      },
      "outputs": [
        {
          "name": "stdout",
          "output_type": "stream",
          "text": [
            "✅ Model Accuracy on Test Data: 93.98%\n"
          ]
        }
      ],
      "source": [
        "# Set model to evaluation mode\n",
        "model.eval()\n",
        "\n",
        "# Track accuracy\n",
        "correct = 0\n",
        "total = 0\n",
        "\n",
        "with torch.no_grad():  # No gradient calculation for testing (faster)\n",
        "    for images, labels in test_loader:\n",
        "        images, labels = images.to(device), labels.to(device)\n",
        "\n",
        "        outputs = model(images)  # Get predictions\n",
        "        _, predicted = torch.max(outputs, 1)  # Get class with highest probability\n",
        "\n",
        "        total += labels.size(0)\n",
        "        correct += (predicted == labels).sum().item()\n",
        "\n",
        "# Calculate accuracy\n",
        "accuracy = 100 * correct / total\n",
        "print(f\"✅ Model Accuracy on Test Data: {accuracy:.2f}%\")\n"
      ]
    },
    {
      "cell_type": "code",
      "execution_count": null,
      "metadata": {
        "colab": {
          "base_uri": "https://localhost:8080/",
          "height": 467
        },
        "id": "UAk3wmAQK-C3",
        "outputId": "32aeb653-7e12-4960-cca7-02a0d63f30c3"
      },
      "outputs": [
        {
          "data": {
            "text/plain": [
              "<sklearn.metrics._plot.confusion_matrix.ConfusionMatrixDisplay at 0x7a6f3bb97510>"
            ]
          },
          "execution_count": 11,
          "metadata": {},
          "output_type": "execute_result"
        },
        {
          "data": {
            "image/png": "[encoded data removed]",
            "text/plain": [
              "<Figure size 640x480 with 2 Axes>"
            ]
          },
          "metadata": {},
          "output_type": "display_data"
        }
      ],
      "source": [
        "from sklearn.metrics import ConfusionMatrixDisplay, confusion_matrix\n",
        "\n",
        "# Get predictions\n",
        "all_labels = []\n",
        "all_preds = []\n",
        "\n",
        "model.eval()\n",
        "with torch.no_grad():\n",
        "    for images, labels in test_loader:\n",
        "        images, labels = images.to(device), labels.to(device)\n",
        "        outputs = model(images)\n",
        "        _, predicted = torch.max(outputs, 1)\n",
        "\n",
        "        all_labels.extend(labels.cpu().numpy())\n",
        "        all_preds.extend(predicted.cpu().numpy())\n",
        "\n",
        "# Display Confusion Matrix\n",
        "cm = confusion_matrix(all_labels, all_preds)\n",
        "disp = ConfusionMatrixDisplay(cm, display_labels=['Fake', 'Original'])\n",
        "disp.plot(cmap=\"Blues\")  # Uses Matplotlib for visualization\n"
      ]
    },
    {
      "cell_type": "code",
      "execution_count": null,
      "metadata": {
        "colab": {
          "base_uri": "https://localhost:8080/"
        },
        "id": "IZ801ixDLqpt",
        "outputId": "a4fcb0be-b046-43e5-e2a6-8757e18eaff5"
      },
      "outputs": [
        {
          "name": "stdout",
          "output_type": "stream",
          "text": [
            "Classification Report:\n",
            "\n",
            "              precision    recall  f1-score   support\n",
            "\n",
            "        Fake       0.96      0.97      0.97        79\n",
            "    Original       0.33      0.25      0.29         4\n",
            "\n",
            "    accuracy                           0.94        83\n",
            "   macro avg       0.65      0.61      0.63        83\n",
            "weighted avg       0.93      0.94      0.94        83\n",
            "\n"
          ]
        }
      ],
      "source": [
        "from sklearn.metrics import classification_report\n",
        "\n",
        "print(\"Classification Report:\\n\")\n",
        "print(classification_report(all_labels, all_preds, target_names=['Fake', 'Original']))\n"
      ]
    },
    {
      "cell_type": "code",
      "execution_count": null,
      "metadata": {
        "id": "55W5H9N1OU33"
      },
      "outputs": [],
      "source": [
        "torch.save(model.state_dict(), \"/content/drive/MyDrive/smartphone_model.pth\")  # ✅ Saves only the weights\n",
        "\n"
      ]
    },
    {
      "cell_type": "code",
      "execution_count": null,
      "metadata": {
        "id": "_0w4eW5zURX0"
      },
      "outputs": [],
      "source": [
        "#ALL the training and saving the model has been done\n",
        "# Below we are loading the the weights and rewritting the architecture for deployment purpose.\n",
        "# Everytime we reconnect we need to load the weights and rewrite the architecture of model."
      ]
    },
    {
      "cell_type": "code",
      "execution_count": null,
      "metadata": {
        "colab": {
          "base_uri": "https://localhost:8080/"
        },
        "id": "dzjiFnzcPbPd",
        "outputId": "1c650365-724c-4d53-8462-6666ee26fb5a"
      },
      "outputs": [
        {
          "name": "stdout",
          "output_type": "stream",
          "text": [
            "Python 3.11.11\n",
            "Name: torch\n",
            "Version: 2.5.1+cu124\n",
            "Summary: Tensors and Dynamic neural networks in Python with strong GPU acceleration\n",
            "Home-page: https://pytorch.org/\n",
            "Author: PyTorch Team\n",
            "Author-email: packages@pytorch.org\n",
            "License: BSD-3-Clause\n",
            "Location: /usr/local/lib/python3.11/dist-packages\n",
            "Requires: filelock, fsspec, jinja2, networkx, nvidia-cublas-cu12, nvidia-cuda-cupti-cu12, nvidia-cuda-nvrtc-cu12, nvidia-cuda-runtime-cu12, nvidia-cudnn-cu12, nvidia-cufft-cu12, nvidia-curand-cu12, nvidia-cusolver-cu12, nvidia-cusparse-cu12, nvidia-nccl-cu12, nvidia-nvjitlink-cu12, nvidia-nvtx-cu12, sympy, triton, typing-extensions\n",
            "Required-by: accelerate, fastai, peft, sentence-transformers, timm, torchaudio, torchvision\n",
            "---\n",
            "Name: torchvision\n",
            "Version: 0.20.1+cu124\n",
            "Summary: image and video datasets and models for torch deep learning\n",
            "Home-page: https://github.com/pytorch/vision\n",
            "Author: PyTorch Core Team\n",
            "Author-email: soumith@pytorch.org\n",
            "License: BSD\n",
            "Location: /usr/local/lib/python3.11/dist-packages\n",
            "Requires: numpy, pillow, torch\n",
            "Required-by: fastai, timm\n",
            "---\n",
            "Name: streamlit\n",
            "Version: 1.43.1\n",
            "Summary: A faster way to build and share data apps\n",
            "Home-page: https://streamlit.io\n",
            "Author: Snowflake Inc\n",
            "Author-email: hello@streamlit.io\n",
            "License: Apache License 2.0\n",
            "Location: /usr/local/lib/python3.11/dist-packages\n",
            "Requires: altair, blinker, cachetools, click, gitpython, numpy, packaging, pandas, pillow, protobuf, pyarrow, pydeck, requests, tenacity, toml, tornado, typing-extensions, watchdog\n",
            "Required-by: \n",
            "---\n",
            "Name: pillow\n",
            "Version: 11.1.0\n",
            "Summary: Python Imaging Library (Fork)\n",
            "Home-page: https://python-pillow.github.io\n",
            "Author: \n",
            "Author-email: \"Jeffrey A. Clark\" <aclark@aclark.net>\n",
            "License: MIT-CMU\n",
            "Location: /usr/local/lib/python3.11/dist-packages\n",
            "Requires: \n",
            "Required-by: bokeh, diffusers, dopamine_rl, fastai, imageio, imgaug, matplotlib, scikit-image, sentence-transformers, streamlit, torchvision, wordcloud\n"
          ]
        }
      ],
      "source": [
        "!python --version  # Check Python version\n",
        "!pip show torch torchvision streamlit pillow"
      ]
    },
    {
      "cell_type": "code",
      "execution_count": null,
      "metadata": {
        "id": "Oirepi6ptQy0"
      },
      "outputs": [],
      "source": [
        "\n"
      ]
    },
    {
      "cell_type": "code",
      "execution_count": null,
      "metadata": {
        "id": "zX0XUKoYVv-_"
      },
      "outputs": [],
      "source": [
        "\n"
      ]
    },
    {
      "cell_type": "code",
      "execution_count": null,
      "metadata": {
        "id": "waQQ4SzpZ_cP"
      },
      "outputs": [],
      "source": []
    },
    {
      "cell_type": "markdown",
      "metadata": {
        "id": "qvU2u8LqUA_O"
      },
      "source": []
    }
  ],
  "metadata": {
    "accelerator": "GPU",
    "colab": {
      "gpuType": "T4",
      "provenance": []
    },
    "kernelspec": {
      "display_name": "Python 3",
      "name": "python3"
    },
    "language_info": {
      "name": "python"
    }
  },
  "nbformat": 4,
  "nbformat_minor": 0
}
